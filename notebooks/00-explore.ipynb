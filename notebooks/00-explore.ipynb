{
 "cells": [
  {
   "cell_type": "markdown",
   "metadata": {},
   "source": [
    "# Chicago Housing Prediction\n",
    "\n",
    "The goal of this task is to use web scraping and apply decision tree models to predict housing prices based on scraped data.\n",
    "\n",
    "Submission:\n",
    "\n",
    "- Submit your Python notebook containing the code for data scraping, preprocessing, model training, and analysis.\n",
    "- Include a brief report summarizing your findings and any insights gained from the task.\n"
   ]
  },
  {
   "cell_type": "markdown",
   "metadata": {},
   "source": [
    "## Data Scraping\n",
    "\n",
    "- Select a city of your choice for which you will scrape housing data. Examples include Chicago, New York, San Francisco, etc.\n",
    "- Use web scraping tools to collect housing data from platforms like Zillow or Redfin.\n",
    "- Ensure you gather relevant features such as the number of bedrooms, bathrooms, square footage, location (address + pincode) , and price.\n",
    "\n",
    "The scraping is already done using `zillow_chicago_scraper.py`"
   ]
  },
  {
   "cell_type": "code",
   "execution_count": null,
   "metadata": {},
   "outputs": [],
   "source": [
    "import polars as pl\n",
    "import plotly.express as px"
   ]
  },
  {
   "cell_type": "code",
   "execution_count": null,
   "metadata": {},
   "outputs": [],
   "source": [
    "df = pl.read_csv('../data/raw/chicago_properties.csv', null_values=['N/A', 'null'])\n",
    "df.head()"
   ]
  },
  {
   "cell_type": "code",
   "execution_count": null,
   "metadata": {},
   "outputs": [],
   "source": [
    "df.describe()"
   ]
  },
  {
   "cell_type": "markdown",
   "metadata": {},
   "source": [
    "## Data Preparation\n",
    "- Clean and preprocess the data to handle any missing or inconsistent entries.\n",
    "- Encode categorical variables if necessary."
   ]
  },
  {
   "cell_type": "code",
   "execution_count": null,
   "metadata": {},
   "outputs": [],
   "source": [
    "df.filter(pl.col('price').str.replace('$', '', literal=True).str.replace_all(',', '').cast(pl.Float32, strict=False).is_null())"
   ]
  },
  {
   "cell_type": "code",
   "execution_count": null,
   "metadata": {},
   "outputs": [],
   "source": [
    "df = df.with_columns(\n",
    "    pl.col('price')\n",
    "    .replace({'$279,000+': '279000', 'Est. $138.8K': '138800', 'Est. $290K': '290000'})\n",
    "    .str.replace('$', '', literal=True)\n",
    "    .str.replace_all(',', '').cast(pl.Float32)\n",
    ")\n",
    "df.head()"
   ]
  },
  {
   "cell_type": "code",
   "execution_count": null,
   "metadata": {},
   "outputs": [],
   "source": [
    "# Extract zip codes from address by taking number in front of IL (in the end of the address)\n",
    "df = df.with_columns(\n",
    "    pl.col('address')\n",
    "    .str.extract(r'IL (\\d{5})$')\n",
    "    .alias('zip_code')\n",
    ")\n",
    "\n",
    "df['zip_code'].value_counts()"
   ]
  },
  {
   "cell_type": "code",
   "execution_count": null,
   "metadata": {},
   "outputs": [],
   "source": [
    "df.filter(pl.col('zip_code').is_null())"
   ]
  },
  {
   "cell_type": "code",
   "execution_count": null,
   "metadata": {},
   "outputs": [],
   "source": [
    "df = df.with_columns(\n",
    "    zip_code=pl.when(pl.col('address')==\"Madison FP Plan, Madison\").then(pl.lit('60601')).otherwise(pl.col('zip_code'))\n",
    ")"
   ]
  },
  {
   "cell_type": "code",
   "execution_count": null,
   "metadata": {},
   "outputs": [],
   "source": [
    "df.to_dummies('zip_code')"
   ]
  },
  {
   "cell_type": "code",
   "execution_count": null,
   "metadata": {},
   "outputs": [],
   "source": [
    "df.filter(pl.col('square_footage').cast(pl.Float32, strict=False).is_null())['square_footage'].unique()"
   ]
  },
  {
   "cell_type": "code",
   "execution_count": null,
   "metadata": {},
   "outputs": [],
   "source": [
    "df = df.with_columns(\n",
    "    pl.col('square_footage').cast(pl.Float32, strict=False)\n",
    ")\n",
    "df.head()"
   ]
  },
  {
   "cell_type": "code",
   "execution_count": null,
   "metadata": {},
   "outputs": [],
   "source": [
    "px.box(df, x='bathrooms', y='square_footage')"
   ]
  },
  {
   "cell_type": "code",
   "execution_count": null,
   "metadata": {},
   "outputs": [],
   "source": [
    "# Clear outliers\n",
    "df.filter((pl.col('square_footage') > 8000) & (pl.col('bathrooms') == 4))"
   ]
  },
  {
   "cell_type": "code",
   "execution_count": null,
   "metadata": {},
   "outputs": [],
   "source": [
    "px.scatter(df, x='square_footage', y='price')"
   ]
  },
  {
   "cell_type": "code",
   "execution_count": null,
   "metadata": {},
   "outputs": [],
   "source": [
    "px.density_heatmap(df, x='bathrooms', y='bedrooms', z='square_footage', histfunc='avg')"
   ]
  },
  {
   "cell_type": "code",
   "execution_count": null,
   "metadata": {},
   "outputs": [],
   "source": [
    "px.scatter(df.with_columns((pl.count('zip_code').over(['bathrooms', 'bedrooms']) / pl.count('zip_code').over(['bathrooms'])).alias('percentage').round(2)), x='bathrooms', y='bedrooms', size='percentage')"
   ]
  },
  {
   "cell_type": "code",
   "execution_count": null,
   "metadata": {},
   "outputs": [],
   "source": [
    "px.scatter(df.with_columns((pl.count('zip_code').over(['bathrooms', 'bedrooms']) / pl.count('zip_code').over(['bedrooms'])).alias('percentage').round(2)), x='bedrooms', y='bathrooms', size='percentage')"
   ]
  },
  {
   "cell_type": "markdown",
   "metadata": {},
   "source": [
    "All three - bedrooms, bathrooms and square_footage have some missing values.\n",
    "\n",
    "We can first find bathrooms and bedrooms using each other's most common value.\n",
    "then, we can impute median of square footage based on bathroom and bedrooms."
   ]
  },
  {
   "cell_type": "code",
   "execution_count": null,
   "metadata": {},
   "outputs": [],
   "source": [
    "def impute_bedrooms(num_bathrooms):\n",
    "    if num_bathrooms <= 2:\n",
    "        return 2\n",
    "    elif num_bathrooms <= 5:\n",
    "        return num_bathrooms\n",
    "    elif num_bathrooms <= 11:\n",
    "        return num_bathrooms - 1\n",
    "    else:\n",
    "        return 12\n",
    "\n",
    "def impute_bathrooms(num_bedrooms):\n",
    "    if num_bathrooms <= 2:\n",
    "        return 2\n",
    "    elif num_bathrooms <= 5:\n",
    "        return num_bathrooms\n",
    "    elif num_bathrooms <= 11:\n",
    "        return num_bathrooms - 1\n",
    "    else:\n",
    "        return 12"
   ]
  },
  {
   "cell_type": "code",
   "execution_count": null,
   "metadata": {},
   "outputs": [],
   "source": [
    "from sklearn.experimental import enable_iterative_imputer\n",
    "from sklearn.impute import IterativeImputer\n",
    "\n",
    "imp = IterativeImputer(max_iter=10, random_state=42, sample_posterior=True)\n",
    "imp.fit(df.select(['bedrooms', 'bathrooms', 'square_footage']))"
   ]
  },
  {
   "cell_type": "code",
   "execution_count": null,
   "metadata": {},
   "outputs": [],
   "source": [
    "df[['bedrooms', 'bathrooms', 'square_footage']] = imp.transform(df.select(['bedrooms', 'bathrooms', 'square_footage'])).round(0)"
   ]
  },
  {
   "cell_type": "code",
   "execution_count": null,
   "metadata": {},
   "outputs": [],
   "source": [
    "df.select(pl.col('*').is_null().sum())"
   ]
  },
  {
   "cell_type": "code",
   "execution_count": null,
   "metadata": {},
   "outputs": [],
   "source": [
    "df"
   ]
  },
  {
   "cell_type": "markdown",
   "metadata": {},
   "source": [
    "## Build a Decision Tree Model\n",
    "\n",
    "- Use the scraped data to train a decision tree model.\n",
    "- Experiment with different features to see which ones are most predictive of housing prices."
   ]
  },
  {
   "cell_type": "code",
   "execution_count": null,
   "metadata": {},
   "outputs": [],
   "source": []
  },
  {
   "cell_type": "markdown",
   "metadata": {},
   "source": [
    "## Analysis and Reporting\n",
    "\n",
    "- Analyze the results of your decision tree model.\n",
    "- Discuss the features that were most influential in predicting housing prices."
   ]
  },
  {
   "cell_type": "markdown",
   "metadata": {},
   "source": []
  }
 ],
 "metadata": {
  "kernelspec": {
   "display_name": ".venv",
   "language": "python",
   "name": "python3"
  },
  "language_info": {
   "codemirror_mode": {
    "name": "ipython",
    "version": 3
   },
   "file_extension": ".py",
   "mimetype": "text/x-python",
   "name": "python",
   "nbconvert_exporter": "python",
   "pygments_lexer": "ipython3",
   "version": "3.10.15"
  }
 },
 "nbformat": 4,
 "nbformat_minor": 2
}
